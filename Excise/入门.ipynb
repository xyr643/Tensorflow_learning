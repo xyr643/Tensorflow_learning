{
 "cells": [
  {
   "cell_type": "code",
   "execution_count": 1,
   "metadata": {},
   "outputs": [],
   "source": [
    "from __future__ import print_function\n",
    "import tensorflow as tf\n",
    "import os"
   ]
  },
  {
   "cell_type": "code",
   "execution_count": 2,
   "metadata": {},
   "outputs": [
    {
     "name": "stdout",
     "output_type": "stream",
     "text": [
      "output: b'Welcome!'\n"
     ]
    }
   ],
   "source": [
    "welcome = tf.constant(\"Welcome!\")\n",
    "with tf.Session() as sess:\n",
    "    print(\"output:\", sess.run(welcome))"
   ]
  },
  {
   "cell_type": "code",
   "execution_count": 3,
   "metadata": {},
   "outputs": [],
   "source": [
    "a = tf.constant(5.0, name='a')\n",
    "b = tf.constant(10.0, name='b')\n",
    "\n",
    "x = tf.add(a, b, name='add')\n",
    "y = tf.div(a, b, name='divide')"
   ]
  },
  {
   "cell_type": "code",
   "execution_count": 5,
   "metadata": {},
   "outputs": [
    {
     "name": "stdout",
     "output_type": "stream",
     "text": [
      "a= 5.0\n",
      "b= 10.0\n",
      "a+bin= 15.0\n",
      "a/b= 0.5\n"
     ]
    }
   ],
   "source": [
    "with tf.Session() as sess:\n",
    "    print('a=', sess.run(a))\n",
    "    print('b=', sess.run(b))\n",
    "    print('a+bin=', sess.run(x))\n",
    "    print('a/b=', sess.run(y))"
   ]
  },
  {
   "cell_type": "code",
   "execution_count": 6,
   "metadata": {},
   "outputs": [],
   "source": [
    "from tensorflow.python.framework import ops"
   ]
  },
  {
   "cell_type": "code",
   "execution_count": 7,
   "metadata": {},
   "outputs": [],
   "source": [
    "weight = tf.Variable(tf.random_normal([2, 3], stddev=0.1), name='weight')\n",
    "biases = tf.Variable(tf.zeros([3]), name='biases')\n",
    "custom_variable = tf.Variable(tf.zeros([3]), name='custom')\n",
    "\n",
    "all_variable_list = ops.get_collection(ops.GraphKeys.GLOBAL_VARIABLES)"
   ]
  },
  {
   "cell_type": "code",
   "execution_count": 8,
   "metadata": {},
   "outputs": [],
   "source": [
    "variable_list_custom = [weight, custom_variable]\n",
    "\n",
    "init_custom_op = tf.variables_initializer(var_list=variable_list_custom)"
   ]
  },
  {
   "cell_type": "code",
   "execution_count": 9,
   "metadata": {},
   "outputs": [],
   "source": [
    "init_all_op = tf.global_variables_initializer()\n",
    "\n",
    "init_all_op = tf.variables_initializer(var_list=all_variable_list)"
   ]
  },
  {
   "cell_type": "code",
   "execution_count": 11,
   "metadata": {},
   "outputs": [],
   "source": [
    "weightNew = tf.Variable(weight.initialized_value(), name='WeightNew')\n",
    "init_weightNew_op = tf.variables_initializer(var_list=[weightNew])"
   ]
  },
  {
   "cell_type": "code",
   "execution_count": 13,
   "metadata": {},
   "outputs": [
    {
     "name": "stdout",
     "output_type": "stream",
     "text": [
      "None\n"
     ]
    }
   ],
   "source": [
    "with tf.Session() as sess:\n",
    "    print(sess.run(init_all_op))\n",
    "    sess.run(init_custom_op)\n",
    "    sess.run(init_weightNew_op)"
   ]
  },
  {
   "cell_type": "code",
   "execution_count": null,
   "metadata": {},
   "outputs": [],
   "source": []
  }
 ],
 "metadata": {
  "kernelspec": {
   "display_name": "tf/keras",
   "language": "python",
   "name": "tensorflow"
  },
  "language_info": {
   "codemirror_mode": {
    "name": "ipython",
    "version": 3
   },
   "file_extension": ".py",
   "mimetype": "text/x-python",
   "name": "python",
   "nbconvert_exporter": "python",
   "pygments_lexer": "ipython3",
   "version": "3.6.8"
  }
 },
 "nbformat": 4,
 "nbformat_minor": 2
}
