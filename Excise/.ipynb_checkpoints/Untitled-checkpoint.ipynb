{
 "cells": [
  {
   "cell_type": "code",
   "execution_count": 1,
   "metadata": {},
   "outputs": [],
   "source": [
    "import numpy as np\n",
    "import matplotlib.pyplot as plt\n",
    "import tensorflow as tf\n",
    "import tempfile\n",
    "import urllib\n",
    "import pandas as pd\n",
    "import os \n",
    "from tensorflow.examples.tutorials.mnist import input_data"
   ]
  },
  {
   "cell_type": "code",
   "execution_count": 2,
   "metadata": {},
   "outputs": [],
   "source": [
    "max_num_checkpoint = 10\n",
    "num_classes = 2\n",
    "batch_size = 512\n",
    "num_epoches = 10\n",
    "\n",
    "initial_learning_rate = 0.001\n",
    "learning_rate_decay_factor = 0.95\n",
    "num_epoches_per_decay = 1\n",
    "\n",
    "is_training = False\n",
    "fine_tuning = False\n",
    "online_test = True\n",
    "allow_soft_placement = True\n",
    "log_device_placement = False"
   ]
  },
  {
   "cell_type": "code",
   "execution_count": 3,
   "metadata": {},
   "outputs": [
    {
     "name": "stdout",
     "output_type": "stream",
     "text": [
      "WARNING:tensorflow:From <ipython-input-3-66e8eb61f27f>:2: read_data_sets (from tensorflow.contrib.learn.python.learn.datasets.mnist) is deprecated and will be removed in a future version.\n",
      "Instructions for updating:\n",
      "Please use alternatives such as official/mnist/dataset.py from tensorflow/models.\n",
      "WARNING:tensorflow:From /home/xueyirong/anaconda3/envs/tensorflow/lib/python3.6/site-packages/tensorflow/contrib/learn/python/learn/datasets/mnist.py:260: maybe_download (from tensorflow.contrib.learn.python.learn.datasets.base) is deprecated and will be removed in a future version.\n",
      "Instructions for updating:\n",
      "Please write your own downloading logic.\n",
      "WARNING:tensorflow:From /home/xueyirong/anaconda3/envs/tensorflow/lib/python3.6/site-packages/tensorflow/contrib/learn/python/learn/datasets/mnist.py:262: extract_images (from tensorflow.contrib.learn.python.learn.datasets.mnist) is deprecated and will be removed in a future version.\n",
      "Instructions for updating:\n",
      "Please use tf.data to implement this functionality.\n",
      "Extracting MNIST_data/train-images-idx3-ubyte.gz\n",
      "WARNING:tensorflow:From /home/xueyirong/anaconda3/envs/tensorflow/lib/python3.6/site-packages/tensorflow/contrib/learn/python/learn/datasets/mnist.py:267: extract_labels (from tensorflow.contrib.learn.python.learn.datasets.mnist) is deprecated and will be removed in a future version.\n",
      "Instructions for updating:\n",
      "Please use tf.data to implement this functionality.\n",
      "Extracting MNIST_data/train-labels-idx1-ubyte.gz\n",
      "Extracting MNIST_data/t10k-images-idx3-ubyte.gz\n",
      "Extracting MNIST_data/t10k-labels-idx1-ubyte.gz\n",
      "WARNING:tensorflow:From /home/xueyirong/anaconda3/envs/tensorflow/lib/python3.6/site-packages/tensorflow/contrib/learn/python/learn/datasets/mnist.py:290: DataSet.__init__ (from tensorflow.contrib.learn.python.learn.datasets.mnist) is deprecated and will be removed in a future version.\n",
      "Instructions for updating:\n",
      "Please use alternatives such as official/mnist/dataset.py from tensorflow/models.\n"
     ]
    }
   ],
   "source": [
    "# 准备数据集\n",
    "mnist = input_data.read_data_sets('MNIST_data/', reshape=True, one_hot=False)\n",
    "data = {}\n",
    "data['train/image'] = mnist.train.images\n",
    "data['train/label'] = mnist.train.labels\n",
    "data['test/image'] = mnist.test.images\n",
    "data['test/label'] = mnist.test.labels\n",
    "\n",
    "def extract_samples_Fn(data):\n",
    "    index_list = []\n",
    "    for sample_index in range(data.shape[0]):\n",
    "        label = data[sample_index]\n",
    "        if label == 1 or label == 0:\n",
    "            index_list.append(sample_index)\n",
    "    return index_list\n",
    "\n",
    "index_list_train = extract_samples_Fn(data['train/label'])\n",
    "index_list_test = extract_samples_Fn(data['test/label'])\n",
    "\n",
    "data['train/image'] = mnist.train.images[index_list_train]\n",
    "data['train/label'] = mnist.train.labels[index_list_train]\n",
    "\n",
    "data['test/image'] = mnist.test.images[index_list_test]\n",
    "data['test/label'] = mnist.test.labels[index_list_test]\n",
    "\n",
    "dim_train = data['train/image'].shape\n",
    "\n",
    "num_train_samples = dim_train[0]\n",
    "num_features = dim_train[1]"
   ]
  },
  {
   "cell_type": "code",
   "execution_count": null,
   "metadata": {},
   "outputs": [],
   "source": [
    "graph = tf.graph()\n",
    "with graph.as_default():\n",
    "    global_step = tf.Variable(0, name='global_step', trainable=False)\n",
    "    \n",
    "    decay_steps = int(num_train_samples/batch_size*num_epoches_per_decay)\n",
    "    # 生成学习率(每decay_steps轮后学习率乘以learning_rate_decay_factor)\n",
    "    learning_rate = tf.train.exponential_decay(initial_learning_rate, global_step,\n",
    "                                              decay_steps, learning_rate_decay_factor,\n",
    "                                              staircase=True, name='exponential_decay_learning_rate')\n",
    "    image_place = tf.placeholder(tf.float32, shape=([None, num_features]), name='image')\n",
    "    label_place = tf.placeholder(tf.float32, shape=([None]), name='gt')\n",
    "    label_one_hot = tf.one_hot(label_place, depth=num_classes, axis=-1)\n",
    "    "
   ]
  },
  {
   "cell_type": "code",
   "execution_count": null,
   "metadata": {},
   "outputs": [],
   "source": []
  }
 ],
 "metadata": {
  "kernelspec": {
   "display_name": "tf/keras",
   "language": "python",
   "name": "tensorflow"
  },
  "language_info": {
   "codemirror_mode": {
    "name": "ipython",
    "version": 3
   },
   "file_extension": ".py",
   "mimetype": "text/x-python",
   "name": "python",
   "nbconvert_exporter": "python",
   "pygments_lexer": "ipython3",
   "version": "3.6.8"
  }
 },
 "nbformat": 4,
 "nbformat_minor": 2
}
