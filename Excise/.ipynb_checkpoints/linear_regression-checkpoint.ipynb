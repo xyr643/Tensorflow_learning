{
 "cells": [
  {
   "cell_type": "code",
   "execution_count": 1,
   "metadata": {},
   "outputs": [],
   "source": [
    "import numpy as np\n",
    "import matplotlib.pyplot as plt\n",
    "import tensorflow as tf\n",
    "import xlrd\n",
    "import os \n",
    "from sklearn.utils import check_random_state"
   ]
  },
  {
   "cell_type": "code",
   "execution_count": 2,
   "metadata": {},
   "outputs": [],
   "source": [
    "n = 50\n",
    "XX = np.arange(n)\n",
    "rs = check_random_state(0)\n",
    "YY = rs.randint(-10, 10, size=(n,)) + 2.0*XX\n",
    "data = np.stack([XX, YY], axis=1)\n",
    "#print(data)"
   ]
  },
  {
   "cell_type": "code",
   "execution_count": 3,
   "metadata": {},
   "outputs": [],
   "source": [
    "num_epochs = 50\n",
    "# 初始化\n",
    "W = tf.Variable(0.0, name=\"weights\")\n",
    "b = tf.Variable(0.0, name=\"bias\")"
   ]
  },
  {
   "cell_type": "code",
   "execution_count": 4,
   "metadata": {},
   "outputs": [],
   "source": [
    "def inputs():\n",
    "    \"\"\"\n",
    "    占位符(相当于形参)\n",
    "    \"\"\"\n",
    "    X = tf.placeholder(tf.float32, name=\"X\")\n",
    "    Y = tf.placeholder(tf.float32, name=\"Y\")\n",
    "    return X, Y\n",
    "\n",
    "def inference(X):\n",
    "    \"\"\"\n",
    "    前向传播X\n",
    "    \"\"\"\n",
    "    return X * W + b\n",
    "\n",
    "def loss(X, Y):\n",
    "    Y_predicted = inference(X)\n",
    "    return tf.reduce_sum(tf.squared_difference(Y, Y_predicted))/(2*data.shape[0])\n",
    "\n",
    "def train(loss):\n",
    "    learning_rate = 0.0001\n",
    "    return tf.train.GradientDescentOptimizer(learning_rate).minimize(loss)"
   ]
  },
  {
   "cell_type": "code",
   "execution_count": 5,
   "metadata": {},
   "outputs": [
    {
     "name": "stdout",
     "output_type": "stream",
     "text": [
      "epoch 1, loss=1573.599976\n",
      "epoch 2, loss=1332.513916\n",
      "epoch 3, loss=1128.868286\n",
      "epoch 4, loss=956.848938\n",
      "epoch 5, loss=811.544067\n",
      "epoch 6, loss=688.804993\n",
      "epoch 7, loss=585.127380\n",
      "epoch 8, loss=497.550781\n",
      "epoch 9, loss=423.574799\n",
      "epoch 10, loss=361.087372\n",
      "epoch 11, loss=308.304138\n",
      "epoch 12, loss=263.718170\n",
      "epoch 13, loss=226.056366\n",
      "epoch 14, loss=194.243408\n",
      "epoch 15, loss=167.371048\n",
      "epoch 16, loss=144.671936\n",
      "epoch 17, loss=125.497986\n",
      "epoch 18, loss=109.301773\n",
      "epoch 19, loss=95.620834\n",
      "epoch 20, loss=84.064507\n",
      "epoch 21, loss=74.302887\n",
      "epoch 22, loss=66.057228\n",
      "epoch 23, loss=59.092148\n",
      "epoch 24, loss=53.208710\n",
      "epoch 25, loss=48.238998\n",
      "epoch 26, loss=44.041073\n",
      "epoch 27, loss=40.495071\n",
      "epoch 28, loss=37.499771\n",
      "epoch 29, loss=34.969639\n",
      "epoch 30, loss=32.832432\n",
      "epoch 31, loss=31.027143\n",
      "epoch 32, loss=29.502199\n",
      "epoch 33, loss=28.214087\n",
      "epoch 34, loss=27.126015\n",
      "epoch 35, loss=26.206921\n",
      "epoch 36, loss=25.430567\n",
      "epoch 37, loss=24.774773\n",
      "epoch 38, loss=24.220827\n",
      "epoch 39, loss=23.752905\n",
      "epoch 40, loss=23.357645\n",
      "epoch 41, loss=23.023773\n",
      "epoch 42, loss=22.741753\n",
      "epoch 43, loss=22.503527\n",
      "epoch 44, loss=22.302298\n",
      "epoch 45, loss=22.132318\n",
      "epoch 46, loss=21.988735\n",
      "epoch 47, loss=21.867451\n",
      "epoch 48, loss=21.764999\n",
      "epoch 49, loss=21.678463\n",
      "epoch 50, loss=21.605358\n"
     ]
    }
   ],
   "source": [
    "with tf.Session() as sess:\n",
    "    # 初始化变量w b\n",
    "    sess.run(tf.global_variables_initializer())\n",
    "    X, Y = inputs()\n",
    "    train_loss = loss(X, Y)\n",
    "    train_op = train(train_loss)\n",
    "    for epoch_num in range(num_epochs):\n",
    "        loss_value, _ = sess.run([train_loss, train_op],\n",
    "                                feed_dict = {X: data[:, 0], Y: data[:, 1]})\n",
    "        print('epoch %d, loss=%f'% (epoch_num+1, loss_value))\n",
    "        wcoeff, bias = sess.run([W, b])"
   ]
  },
  {
   "cell_type": "code",
   "execution_count": 6,
   "metadata": {},
   "outputs": [
    {
     "data": {
      "image/png": "[encoded data removed]",
      "text/plain": [
       "<Figure size 432x288 with 1 Axes>"
      ]
     },
     "metadata": {
      "needs_background": "light"
     },
     "output_type": "display_data"
    }
   ],
   "source": [
    "Input_values = data[:, 0]\n",
    "Labels = data[:, 1]\n",
    "Predicted_values = data[:, 0] * wcoeff + bias\n",
    "\n",
    "plt.plot(Input_values, Labels, 'ro', label='main')\n",
    "plt.plot(Input_values, Predicted_values, label='Predicted')\n",
    "\n",
    "plt.legend()\n",
    "plt.grid()\n",
    "plt.show()"
   ]
  },
  {
   "cell_type": "code",
   "execution_count": null,
   "metadata": {},
   "outputs": [],
   "source": []
  }
 ],
 "metadata": {
  "kernelspec": {
   "display_name": "tf/keras",
   "language": "python",
   "name": "tensorflow"
  },
  "language_info": {
   "codemirror_mode": {
    "name": "ipython",
    "version": 3
   },
   "file_extension": ".py",
   "mimetype": "text/x-python",
   "name": "python",
   "nbconvert_exporter": "python",
   "pygments_lexer": "ipython3",
   "version": "3.6.8"
  }
 },
 "nbformat": 4,
 "nbformat_minor": 2
}
